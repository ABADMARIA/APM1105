{
 "cells": [
  {
   "cell_type": "code",
   "execution_count": 3,
   "id": "1c71d6aa-4dff-4e74-8adf-660e81120c4f",
   "metadata": {
    "tags": []
   },
   "outputs": [
    {
     "name": "stdout",
     "output_type": "stream",
     "text": [
      "F-statistic: 39.170\n",
      "p-value: 0.000\n",
      "There is a significant difference in time spent between the treatment conditions.\n"
     ]
    }
   ],
   "source": [
    "import numpy as np\n",
    "import pandas as pd\n",
    "from scipy.stats import f_oneway\n",
    "\n",
    "data = {\n",
    "    'Shapes': [2.00, 0.75, 1.25, 1.00, 1.50, 1.25, 1.75, 0.50],\n",
    "    'Patterns': [2.50, 3.25, 1.85, 3.05, 2.50, 3.00, 4.10, 3.75],\n",
    "    'Pictures': [4.25, 4.10, 4.25, 4.40, 3.75, 3.05, 3.20, 5.00]\n",
    "}\n",
    "\n",
    "df = pd.DataFrame(data)\n",
    "\n",
    "f_statistic, p_value = f_oneway(df['Shapes'], df['Patterns'], df['Pictures'])\n",
    "\n",
    "print(f'F-statistic: {f_statistic:.3f}')\n",
    "print(f'p-value: {p_value:.3f}')\n",
    "\n",
    "alpha = 0.05\n",
    "if p_value < alpha:\n",
    "    print('There is a significant difference in time spent between the treatment conditions.')\n",
    "else:\n",
    "    print('There is no significant difference in time spent between the treatment conditions.')\n"
   ]
  },
  {
   "cell_type": "code",
   "execution_count": null,
   "id": "eb3f0823-bd39-4e32-adf3-65ffedbab275",
   "metadata": {},
   "outputs": [],
   "source": []
  }
 ],
 "metadata": {
  "kernelspec": {
   "display_name": "Python 3 (ipykernel)",
   "language": "python",
   "name": "python3"
  },
  "language_info": {
   "codemirror_mode": {
    "name": "ipython",
    "version": 3
   },
   "file_extension": ".py",
   "mimetype": "text/x-python",
   "name": "python",
   "nbconvert_exporter": "python",
   "pygments_lexer": "ipython3",
   "version": "3.10.5"
  }
 },
 "nbformat": 4,
 "nbformat_minor": 5
}
