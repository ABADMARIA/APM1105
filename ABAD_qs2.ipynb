{
 "cells": [
  {
   "cell_type": "code",
   "execution_count": null,
   "id": "05a10fbd",
   "metadata": {},
   "outputs": [],
   "source": [
    "import time\n",
    "\n",
    "def fibonacci_iter(n):\n",
    "    if n == 0:\n",
    "        return 0\n",
    "    fib_seq = [0, 1]\n",
    "    for i in range(2, n+1):\n",
    "        fib_seq.append(fib_seq[i-1] + fib_seq[i-2])\n",
    "    return fib_seq\n",
    "\n",
    "def fibonacci_recur(n):\n",
    "    if n <= 1:\n",
    "        return n\n",
    "    else:\n",
    "        return fibonacci_recur(n-1) + fibonacci_recur(n-2)\n",
    "    \n",
    "n = int(input(\"User input of fibonacci terms to calculate: \"))\n",
    "\n",
    "start_t = time.time()\n",
    "fib_iter = fibonacci_iter(n)\n",
    "end_t = time.time()\n",
    "iter_t = end_t - start_t\n",
    "\n",
    "start_t = time.time()\n",
    "fib_recur = [fibonacci_recur(i) for i in range(n+1)]\n",
    "end_t = time.time()\n",
    "recur_t = end_t - start_t\n",
    "\n",
    "# Fibonacci sequences and rendering times\n",
    "print(\"Iterative approach result:\", fib_iter)\n",
    "print(f\"Time taken when generated iteratively:\", iter_t, \"seconds\")\n",
    "print(\"Recursive approach result:\", fib_recur)\n",
    "print(f\"Time taken when generated recursively:\", recur_t, \"seconds\")\n"
   ]
  },
  {
   "cell_type": "code",
   "execution_count": null,
   "id": "82cfa8e3",
   "metadata": {},
   "outputs": [],
   "source": []
  },
  {
   "cell_type": "code",
   "execution_count": null,
   "id": "6aaaaee9",
   "metadata": {},
   "outputs": [],
   "source": []
  }
 ],
 "metadata": {
  "kernelspec": {
   "display_name": "Python 3 (ipykernel)",
   "language": "python",
   "name": "python3"
  },
  "language_info": {
   "codemirror_mode": {
    "name": "ipython",
    "version": 3
   },
   "file_extension": ".py",
   "mimetype": "text/x-python",
   "name": "python",
   "nbconvert_exporter": "python",
   "pygments_lexer": "ipython3",
   "version": "3.9.13"
  }
 },
 "nbformat": 4,
 "nbformat_minor": 5
}
