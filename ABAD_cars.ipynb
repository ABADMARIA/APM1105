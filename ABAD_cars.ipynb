{
 "cells": [
  {
   "cell_type": "markdown",
   "id": "4959fbfe-37bd-4b27-b6f5-c4dcc8eed45f",
   "metadata": {},
   "source": [
    "Using a repeated measures ANOVA, this research seeks to determine how different engine oils affect vehicle mileage. Mileage figures for five different autos utilizing four different types of engine oil make up the data.\n",
    "\n",
    "Assumptions:\n",
    "Independence Presumption:\n",
    "Since it is believed that each car's mileage is independent of the others, no particular test is necessary.\n",
    "Normality Premise:\n",
    "P-value for the Shapiro-Wilk Test = 0.6504. The normality assumption is supported by the residuals, which have an approximate normal distribution."
   ]
  },
  {
   "cell_type": "code",
   "execution_count": 4,
   "id": "e475c55a-54fe-466c-89a9-360f05a78ecd",
   "metadata": {
    "tags": []
   },
   "outputs": [
    {
     "name": "stdout",
     "output_type": "stream",
     "text": [
      "Shapiro-Wilk Test for Normality - p-value: 0.6504\n",
      "              Anova\n",
      "=================================\n",
      "    F Value Num DF  Den DF Pr > F\n",
      "---------------------------------\n",
      "Oil  0.5679 3.0000 12.0000 0.6466\n",
      "=================================\n",
      "\n",
      "\n",
      "Assumption Checks:\n",
      "1. Independence Assumption: no particular test is necessary\n",
      "2. Normality Assumption: Shapiro-Wilk Test p-value = 0.6504. approximate normal distribution\n",
      "\n",
      "ANOVA Results:\n",
      "      F Value  Num DF  Den DF    Pr > F\n",
      "Oil  0.567884     3.0    12.0  0.646647\n"
     ]
    }
   ],
   "source": [
    "import numpy as np\n",
    "import pandas as pd\n",
    "from scipy.stats import shapiro\n",
    "from statsmodels.stats.anova import AnovaRM\n",
    "\n",
    "dataframe = pd.DataFrame({'Cars': np.repeat([1, 2, 3, 4, 5], 4),\n",
    "                          'Oil': np.tile([1, 2, 3, 4], 5),\n",
    "                          'Mileage': [36, 38, 30, 29,\n",
    "                                      34, 38, 30, 29,\n",
    "                                      34, 28, 38, 32,\n",
    "                                      38, 34, 20, 44,\n",
    "                                      26, 28, 34, 50]})\n",
    "\n",
    "# Assumptions\n",
    "\n",
    "# 1. Independence Assumption: Assuming each car's mileage is independent of the others.\n",
    "# No specific test required.\n",
    "\n",
    "# 2. Normality Assumption: Check if the residuals are approximately normally distributed.\n",
    "# Shapiro-Wilk test for normality\n",
    "residuals = dataframe['Mileage'] - dataframe.groupby('Oil')['Mileage'].transform('mean')\n",
    "shapiro_test_stat, shapiro_p_value = shapiro(residuals)\n",
    "print(f\"Shapiro-Wilk Test for Normality - p-value: {shapiro_p_value:.4f}\")\n",
    "\n",
    "# 3. Sphericity Assumption: Mauchly's Test for Sphericity\n",
    "anova_result = AnovaRM(dataframe, 'Mileage', 'Cars', within=['Oil']).fit()\n",
    "\n",
    "print(anova_result)\n",
    "\n",
    "print(\"\\nAssumption Checks:\")\n",
    "print(f\"1. Independence Assumption: no particular test is necessary\")\n",
    "print(f\"2. Normality Assumption: Shapiro-Wilk Test p-value = {shapiro_p_value:.4f}. approximate normal distribution\")\n",
    "\n",
    "print(\"\\nANOVA Results:\")\n",
    "print(anova_result.anova_table)"
   ]
  },
  {
   "cell_type": "code",
   "execution_count": null,
   "id": "d14384c5-eef2-4fa9-9dfd-eef3e5a03966",
   "metadata": {
    "tags": []
   },
   "outputs": [],
   "source": []
  },
  {
   "cell_type": "code",
   "execution_count": null,
   "id": "c3da58cb-dc8c-422f-81e6-32d3cfc1b277",
   "metadata": {},
   "outputs": [],
   "source": []
  }
 ],
 "metadata": {
  "kernelspec": {
   "display_name": "Python 3 (ipykernel)",
   "language": "python",
   "name": "python3"
  },
  "language_info": {
   "codemirror_mode": {
    "name": "ipython",
    "version": 3
   },
   "file_extension": ".py",
   "mimetype": "text/x-python",
   "name": "python",
   "nbconvert_exporter": "python",
   "pygments_lexer": "ipython3",
   "version": "3.10.5"
  }
 },
 "nbformat": 4,
 "nbformat_minor": 5
}
