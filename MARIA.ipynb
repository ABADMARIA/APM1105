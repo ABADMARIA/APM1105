{
 "cells": [
  {
   "cell_type": "code",
   "execution_count": null,
   "metadata": {},
   "outputs": [],
   "source": [
    "kilometer = float(input(\"Enter Kilometer value: \"))\n",
    "miles = str(0.62137119 * kilometer)\n",
    "print(\"Miles value is = \" + miles)"
   ]
  },
  {
   "cell_type": "code",
   "execution_count": null,
   "metadata": {},
   "outputs": [],
   "source": [
    "kilometer = float(input(\"Enter Kilometer value: \"))\n",
    "miles = 0.62137119 * kilometer\n",
    "minutes = float(input(\"Enter Minutes value: \"))\n",
    "hour = minutes/60\n",
    "seconds= float(input(\"Enter seconds value: \"))\n",
    "hour_seconds = seconds/3600\n",
    "total_hour = hour + hour_seconds\n",
    "miles_perhour = str(miles/total_hour)\n",
    "miles_permin = str(miles/total_hour*60)\n",
    "miles_persec = str(miles/total_hour*3600)\n",
    "print(\"miles per hour is: \" + miles_perhour)\n",
    "print(\"miles per min is: \" + miles_permin)\n",
    "print(\"miles per sec is: \" + miles_persec)"
   ]
  },
  {
   "cell_type": "markdown",
   "metadata": {},
   "source": []
  },
  {
   "cell_type": "code",
   "execution_count": null,
   "metadata": {},
   "outputs": [],
   "source": []
  }
 ],
 "metadata": {
  "kernelspec": {
   "display_name": "Python 3",
   "language": "python",
   "name": "python3"
  },
  "language_info": {
   "codemirror_mode": {
    "name": "ipython",
    "version": 3
   },
   "file_extension": ".py",
   "mimetype": "text/x-python",
   "name": "python",
   "nbconvert_exporter": "python",
   "pygments_lexer": "ipython3",
   "version": "3.7.0"
  }
 },
 "nbformat": 4,
 "nbformat_minor": 2
}
