{
 "cells": [
  {
   "cell_type": "code",
   "execution_count": 16,
   "id": "19d3ae6a-d4ab-4a12-ad2e-f9dec389d539",
   "metadata": {
    "tags": []
   },
   "outputs": [
    {
     "name": "stdout",
     "output_type": "stream",
     "text": [
      "t-statistic: -0.3488571842303581\n",
      "p-value: 0.7279449319037434\n"
     ]
    }
   ],
   "source": [
    "#1\n",
    "import numpy as np\n",
    "import scipy.stats as stats\n",
    "\n",
    "hrs_m = [8, 10, 12, 9, 11, 10, 8, 9, 11, 10, 12, 11, 10, 9, 11, 12, 9, 10, 11, 8, 10, 12, 11, 10, 9, 11, 10, 12, 11, 10, 9, 11, 8, 10, 12, 11, 10, 9, 11, 10, 12, 11, 10, 9, 11, 10, 12, 11, 10, 9]\n",
    "hrs_f = [10, 9, 8, 11, 10, 12, 11, 10, 9, 11, 12, 9, 10, 11, 8, 10, 12, 11, 10, 9, 11, 10, 12, 11, 10, 9, 11, 10, 12, 11, 10, 9, 11, 8, 10, 12, 11, 10, 9, 11, 10, 12, 11, 10, 9, 11, 10, 12, 11, 10]\n",
    "\n",
    "tstat, pval = stats.ttest_ind(hrs_m, hrs_f)\n",
    "\n",
    "print(\"t-statistic:\", tstat)\n",
    "print(\"p-value:\", pval)"
   ]
  },
  {
   "cell_type": "code",
   "execution_count": 17,
   "id": "9a16f79f-727a-45a3-b882-ff85626d13f8",
   "metadata": {
    "tags": []
   },
   "outputs": [
    {
     "data": {
      "text/plain": [
       "<Figure size 1000x600 with 0 Axes>"
      ]
     },
     "metadata": {},
     "output_type": "display_data"
    },
    {
     "data": {
      "image/png": "[encoded data removed]",
      "text/plain": [
       "<Figure size 640x480 with 1 Axes>"
      ]
     },
     "metadata": {},
     "output_type": "display_data"
    },
    {
     "data": {
      "text/html": [
       "<div>\n",
       "<style scoped>\n",
       "    .dataframe tbody tr th:only-of-type {\n",
       "        vertical-align: middle;\n",
       "    }\n",
       "\n",
       "    .dataframe tbody tr th {\n",
       "        vertical-align: top;\n",
       "    }\n",
       "\n",
       "    .dataframe thead th {\n",
       "        text-align: right;\n",
       "    }\n",
       "</style>\n",
       "<table border=\"1\" class=\"dataframe\">\n",
       "  <thead>\n",
       "    <tr style=\"text-align: right;\">\n",
       "      <th></th>\n",
       "      <th>count</th>\n",
       "      <th>mean</th>\n",
       "      <th>std</th>\n",
       "      <th>min</th>\n",
       "      <th>25%</th>\n",
       "      <th>50%</th>\n",
       "      <th>75%</th>\n",
       "      <th>max</th>\n",
       "    </tr>\n",
       "    <tr>\n",
       "      <th>Gender</th>\n",
       "      <th></th>\n",
       "      <th></th>\n",
       "      <th></th>\n",
       "      <th></th>\n",
       "      <th></th>\n",
       "      <th></th>\n",
       "      <th></th>\n",
       "      <th></th>\n",
       "    </tr>\n",
       "  </thead>\n",
       "  <tbody>\n",
       "    <tr>\n",
       "      <th>Female</th>\n",
       "      <td>50.0</td>\n",
       "      <td>9.70</td>\n",
       "      <td>1.775686</td>\n",
       "      <td>6.0</td>\n",
       "      <td>9.0</td>\n",
       "      <td>9.5</td>\n",
       "      <td>11.0</td>\n",
       "      <td>14.0</td>\n",
       "    </tr>\n",
       "    <tr>\n",
       "      <th>Male</th>\n",
       "      <td>50.0</td>\n",
       "      <td>9.82</td>\n",
       "      <td>2.154161</td>\n",
       "      <td>4.0</td>\n",
       "      <td>9.0</td>\n",
       "      <td>10.0</td>\n",
       "      <td>11.0</td>\n",
       "      <td>15.0</td>\n",
       "    </tr>\n",
       "  </tbody>\n",
       "</table>\n",
       "</div>"
      ],
      "text/plain": [
       "        count  mean       std  min  25%   50%   75%   max\n",
       "Gender                                                   \n",
       "Female   50.0  9.70  1.775686  6.0  9.0   9.5  11.0  14.0\n",
       "Male     50.0  9.82  2.154161  4.0  9.0  10.0  11.0  15.0"
      ]
     },
     "execution_count": 17,
     "metadata": {},
     "output_type": "execute_result"
    }
   ],
   "source": [
    "import pandas as pd\n",
    "import matplotlib.pyplot as plt\n",
    "\n",
    "m = [12, 7, 7, 10, 8, 10, 11, 9, 9, 13, 4, 9, 12, 11, 9, 9, 7, 12, 10, 13, 11, 10, 6, 12, 11, 9, 10, 12, 8, 9, 13, 10, 9, 7, 10, 7, 10, 8, 11, 10, 11, 7, 15, 8, 9, 9, 11, 13, 10, 13]\n",
    "f = [11, 10, 11, 10, 11, 12, 12, 10, 9, 9, 9, 10, 8, 7, 12, 9, 7, 8, 9, 8, 7, 7, 9, 9, 12, 10, 9, 13, 9, 9, 10, 9, 6, 12, 8, 11, 8, 8, 11, 12, 9, 10, 11, 14, 12, 7, 11, 10, 9, 11]\n",
    "\n",
    "m_df = pd.DataFrame({'Hours': m, 'Gender': 'Male'})\n",
    "f_df = pd.DataFrame({'Hours': f, 'Gender': 'Female'})\n",
    "\n",
    "combined_df = pd.concat([m_df, f_df])\n",
    "\n",
    "stat_summ = combined_df.groupby('Gender')['Hours'].describe()\n",
    "\n",
    "plt.figure(figsize=(10, 6))\n",
    "combined_df.boxplot(by='Gender', column='Hours', grid=False)\n",
    "plt.title('Boxplot of Hours Worked by Gender')\n",
    "plt.suptitle('') \n",
    "plt.show()\n",
    "\n",
    "stat_summ\n"
   ]
  },
  {
   "cell_type": "code",
   "execution_count": 18,
   "id": "7bda3fe0-866c-44ca-882e-186fc07c43d6",
   "metadata": {
    "tags": []
   },
   "outputs": [
    {
     "name": "stdout",
     "output_type": "stream",
     "text": [
      "95% Confidence Interval for Males: [ 9.2229 10.4171]\n",
      "95% Confidence Interval for Females: [ 9.2078 10.1922]\n",
      "95% Confidence Interval for the Difference between Means: [-0.6635  0.9035]\n"
     ]
    }
   ],
   "source": [
    "import numpy as np\n",
    "import scipy.stats as stats\n",
    "\n",
    "# Given data\n",
    "m = np.array([12, 7, 7, 10, 8, 10, 11, 9, 9, 13, 4, 9, 12, 11, 9, 9, 7, 12, 10, 13, 11, 10, 6, 12, 11, 9, 10, 12, 8, 9, 13, 10, 9, 7, 10, 7, 10, 8, 11, 10, 11, 7, 15, 8, 9, 9, 11, 13, 10, 13])\n",
    "f = np.array([11, 10, 11, 10, 11, 12, 12, 10, 9, 9, 9, 10, 8, 7, 12, 9, 7, 8, 9, 8, 7, 7, 9, 9, 12, 10, 9, 13, 9, 9, 10, 9, 6, 12, 8, 11, 8, 8, 11, 12, 9, 10, 11, 14, 12, 7, 11, 10, 9, 11])\n",
    "\n",
    "ci_m = np.round(stats.norm.interval(0.95, loc=np.mean(males), scale=stats.sem(males)), 4)\n",
    "ci_f = np.round(stats.norm.interval(0.95, loc=np.mean(females), scale=stats.sem(females)), 4)\n",
    "\n",
    "xdiff = np.mean(m) - np.mean(f)\n",
    "std_error_diff = np.sqrt((np.var(m, ddof=1) / len(m)) + (np.var(f, ddof=1) / len(f)))\n",
    "moe_diff = stats.t.ppf(0.975, len(m) + len(f) - 2) * std_error_diff\n",
    "ci_diff = np.round((xdiff - moe_diff, xdiff + moe_diff), 4)\n",
    "\n",
    "print(\"95% Confidence Interval for Males:\", ci_m)\n",
    "print(\"95% Confidence Interval for Females:\", ci_f)\n",
    "print(\"95% Confidence Interval for the Difference between Means:\", ci_diff)"
   ]
  },
  {
   "cell_type": "code",
   "execution_count": 20,
   "id": "da08cb07-a064-47c0-9f2f-631f25d7edcf",
   "metadata": {
    "tags": []
   },
   "outputs": [
    {
     "name": "stdout",
     "output_type": "stream",
     "text": [
      "Test of Normality:\n",
      "Group 1:\n",
      "p-value: 0.89237\n",
      "The sample seems to be distributed normally.\n",
      "\n",
      "Group 2:\n",
      "p-value: 0.98193\n",
      "The sample seems to be distributed normally.\n",
      "\n",
      "Test of Homogeneity of Variances, Levene's test:\n",
      "p-value: 0.0746\n",
      "Variances are equal.\n"
     ]
    }
   ],
   "source": [
    "#6\n",
    "import scipy.stats as stats\n",
    "import numpy as np\n",
    "\n",
    "def normtest_result(data, alpha=0.05):\n",
    "    _, p_value = stats.shapiro(data)\n",
    "    rounded_pval = round(p_value, 5)\n",
    "    print(f\"p-value: {rounded_pval}\")\n",
    "    if rounded_pval > alpha:\n",
    "        print(\"The sample seems to be distributed normally.\")\n",
    "    else:\n",
    "        print(\"The sample fails to be normally distributed.\")\n",
    "\n",
    "g1 = [22, 24, 26, 27, 30, 21, 25, 28, 23, 29]\n",
    "g2 = [18, 19, 20, 17, 16, 21, 19, 22, 20, 18]\n",
    "\n",
    "print(\"Test of Normality:\")\n",
    "print(\"Group 1:\")\n",
    "normtest_result(g1)\n",
    "\n",
    "print(\"\\nGroup 2:\")\n",
    "normtest_result(g2)\n",
    "\n",
    "_, pval_levene = stats.levene(g1, g2)\n",
    "\n",
    "alpha = 0.05\n",
    "rounded_pval_levene = round(pval_levene, 5)\n",
    "print(\"\\nTest of Homogeneity of Variances, Levene's test:\")\n",
    "print(f\"p-value: {rounded_pval_levene}\")\n",
    "if rounded_pval_levene > alpha:\n",
    "    print(\"Variances are equal.\")\n",
    "else:\n",
    "    print(\"Variances are not equal.\")"
   ]
  },
  {
   "cell_type": "code",
   "execution_count": null,
   "id": "d69389b2-dc6e-4bf4-8df2-fab97e16402d",
   "metadata": {},
   "outputs": [],
   "source": []
  }
 ],
 "metadata": {
  "kernelspec": {
   "display_name": "Python 3 (ipykernel)",
   "language": "python",
   "name": "python3"
  },
  "language_info": {
   "codemirror_mode": {
    "name": "ipython",
    "version": 3
   },
   "file_extension": ".py",
   "mimetype": "text/x-python",
   "name": "python",
   "nbconvert_exporter": "python",
   "pygments_lexer": "ipython3",
   "version": "3.10.5"
  }
 },
 "nbformat": 4,
 "nbformat_minor": 5
}
