{
 "cells": [
  {
   "cell_type": "code",
   "execution_count": 2,
   "metadata": {},
   "outputs": [
    {
     "name": "stdout",
     "output_type": "stream",
     "text": [
      "Descriptive measure            Score\n",
      "      ---------------  ---------------\n",
      "         Total Values               60\n",
      "                 Mode               28\n",
      "               Median               57\n",
      "                 Mean           59.167\n",
      "   Standard Deviation           22.211\n",
      "             Variance          493.328\n",
      "             Skewness            0.167\n",
      "Std Error of Skewness            0.309\n",
      "             Kurtosis           -1.241\n",
      "Std Error of Kurtosis             0.58\n",
      "              Minimum               25\n",
      "              Maximum               99\n",
      "      25th Percentile            37.75\n",
      "      50th Percentile               57\n",
      "      75th Percentile               76\n",
      "      90th Percentile             89.2\n",
      "      95th Percentile             94.1\n",
      "      ---------------  ---------------\n"
     ]
    }
   ],
   "source": [
    "import pandas as pd\n",
    "import numpy as np\n",
    "from scipy.stats import kurtosis, skew\n",
    "\n",
    "data = [\n",
    "    88, 45, 53, 86, 33, 86, 85, 30, 89, 53, 41, 96, 56, 38, 62,\n",
    "    71, 51, 86, 68, 29, 28, 47, 33, 37, 25, 36, 33, 94, 73, 46,\n",
    "    42, 34, 79, 72, 88, 99, 82, 62, 57, 42, 28, 55, 67, 62, 60,\n",
    "    96, 61, 57, 75, 93, 34, 75, 53, 32, 28, 73, 51, 69, 91, 35\n",
    "]\n",
    "\n",
    "df = pd.DataFrame(data, columns=['Score'])\n",
    "\n",
    "n = len(df)\n",
    "statistics = {\n",
    "    'Total Values': n,\n",
    "    'Mode': df['Score'].mode().values[0],\n",
    "    'Median': df['Score'].median(),\n",
    "    'Mean': df['Score'].mean(),\n",
    "    'Standard Deviation': df['Score'].std(),\n",
    "    'Variance': df['Score'].var(),\n",
    "    'Skewness': skew(df['Score'], bias=False),\n",
    "    'Std Error of Skewness': np.sqrt((6 * n * (n - 1)) / ((n - 2) * (n + 1) * (n + 3))),\n",
    "    'Kurtosis': kurtosis(df['Score'], fisher=True),\n",
    "    'Std Error of Kurtosis': 2 * np.sqrt((6 * (n**2 - 1) * (n + 1)) / ((n - 3) * (n + 3) * (n + 5) * (n + 7))),\n",
    "    'Minimum': df['Score'].min(),\n",
    "    'Maximum': df['Score'].max(),\n",
    "}\n",
    "\n",
    "percentiles = df['Score'].quantile([0.25, 0.5, 0.75, 0.9, 0.95])\n",
    "statistics.update({\n",
    "    '25th Percentile': percentiles[0.25],\n",
    "    '50th Percentile': percentiles[0.5],\n",
    "    '75th Percentile': percentiles[0.75],\n",
    "    '90th Percentile': percentiles[0.9],\n",
    "    '95th Percentile': percentiles[0.95],\n",
    "})\n",
    "\n",
    "statistics = {k: round(v, 3) for k, v in statistics.items()}\n",
    "\n",
    "statistics_table = pd.DataFrame(list(statistics.items()), columns=['Descriptive measure', 'Score'])\n",
    "\n",
    "border = '-' * 15\n",
    "statistics_table = pd.DataFrame({'Descriptive measure': [border], 'Score': [border]}).append(statistics_table).append(pd.DataFrame({'Descriptive measure': [border], 'Score': [border]}))\n",
    "\n",
    "print(statistics_table.to_string(index=False)) "
   ]
  },
  {
   "cell_type": "code",
   "execution_count": null,
   "metadata": {},
   "outputs": [],
   "source": []
  }
 ],
 "metadata": {
  "kernelspec": {
   "display_name": "Python 3",
   "language": "python",
   "name": "python3"
  },
  "language_info": {
   "codemirror_mode": {
    "name": "ipython",
    "version": 3
   },
   "file_extension": ".py",
   "mimetype": "text/x-python",
   "name": "python",
   "nbconvert_exporter": "python",
   "pygments_lexer": "ipython3",
   "version": "3.7.0"
  }
 },
 "nbformat": 4,
 "nbformat_minor": 2
}
