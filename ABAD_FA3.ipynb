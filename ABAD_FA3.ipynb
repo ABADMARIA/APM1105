{
 "cells": [
  {
   "cell_type": "code",
   "execution_count": 1,
   "metadata": {},
   "outputs": [
    {
     "name": "stdout",
     "output_type": "stream",
     "text": [
      "Q1 (25th percentile): 37.5\n",
      "Q2 (50th percentile / Median): 57.0\n",
      "Q3 (75th percentile): 77.0\n",
      "D9 (90th percentile): 91\n",
      "P95 (95th percentile): 96\n"
     ]
    }
   ],
   "source": [
    "import numpy as np\n",
    "\n",
    "test_scores = [88, 45, 53, 86, 33, 86, 85, 30, 89, 53, 41, 96, 56, 38, 62,\n",
    "               71, 51, 86, 68, 29, 28, 47, 33, 37, 25, 36, 33, 94, 73, 46,\n",
    "               42, 34, 79, 72, 88, 99, 82, 62, 57, 42, 28, 55, 67, 62, 60,\n",
    "               96, 61, 57, 75, 93, 34, 75, 53, 32, 28, 73, 51, 69, 91, 35]\n",
    "\n",
    "sortedsc = sorted(test_scores)\n",
    "\n",
    "n = len(sortedsc)\n",
    "q1ind = int(n * 0.25)\n",
    "q2ind = int(n * 0.5)\n",
    "q3ind = int(n * 0.75)\n",
    "\n",
    "q1 = (sortedsc[q1ind - 1] + sortedsc[q1ind]) / 2 if n % 4 == 0 else sortedsc[q1ind]\n",
    "q2 = (sortedsc[q2ind - 1] + sortedsc[q2ind]) / 2 if n % 2 == 0 else sortedsc[q2ind]\n",
    "q3 = (sortedsc[q3ind - 1] + sortedsc[q3ind]) / 2 if n % 4 == 0 else sortedsc[q3ind]\n",
    "print(f\"Q1 (25th percentile): {q1}\")\n",
    "print(f\"Q2 (50th percentile / Median): {q2}\")\n",
    "print(f\"Q3 (75th percentile): {q3}\")\n",
    "\n",
    "d9ind = int(n * 0.9)\n",
    "d9 = sortedsc[d9ind]\n",
    "print(f\"D9 (90th percentile): {d9}\")\n",
    "\n",
    "p95ind = int(n * 0.95)\n",
    "p95 = sortedsc[p95ind]\n",
    "print(f\"P95 (95th percentile): {p95}\")"
   ]
  },
  {
   "cell_type": "code",
   "execution_count": null,
   "metadata": {},
   "outputs": [],
   "source": []
  }
 ],
 "metadata": {
  "kernelspec": {
   "display_name": "Python 3",
   "language": "python",
   "name": "python3"
  },
  "language_info": {
   "codemirror_mode": {
    "name": "ipython",
    "version": 3
   },
   "file_extension": ".py",
   "mimetype": "text/x-python",
   "name": "python",
   "nbconvert_exporter": "python",
   "pygments_lexer": "ipython3",
   "version": "3.7.0"
  }
 },
 "nbformat": 4,
 "nbformat_minor": 2
}
