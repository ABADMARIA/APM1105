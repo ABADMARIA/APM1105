{
 "cells": [
  {
   "cell_type": "markdown",
   "id": "3d52018e-37c7-4830-baa8-49748f0358a7",
   "metadata": {},
   "source": [
    "This investigation looks into how various therapies affect the memory scores of Alzheimer's disease-affected mice. The dataset comes from studies done on mice using various treatment regimens.\n",
    "\n",
    "Uniformity of variances\n",
    "The Levene's test was used to determine if the variances were homogeneous. The variability in the 'Training', 'AD_Status', and 'Treatment' groups is compared in this test. \n",
    "\n",
    "Normative State:\n",
    "The Shapiro-Wilk test was utilized to evaluate the normality of the 'Training' variable. The test looks at whether the training score distribution is about normal."
   ]
  },
  {
   "cell_type": "code",
   "execution_count": 7,
   "id": "cc77df1c-73a8-4c31-a57b-d5ed79f4c54e",
   "metadata": {
    "tags": []
   },
   "outputs": [
    {
     "name": "stdout",
     "output_type": "stream",
     "text": [
      "   AD_Status  Treatment  Training  Memory\n",
      "0          1          1        12      10\n",
      "1          1          1        15      12\n",
      "2          1          1        13      13\n",
      "3          1          1        12      10\n",
      "4          1          1        14      13\n",
      "Homogeneity of Variances Test:\n",
      "LeveneResult(statistic=14.378717305625225, pvalue=2.609011717631392e-06)\n",
      "\n",
      "Normality Test:\n",
      "ShapiroResult(statistic=0.9358311891555786, pvalue=0.025071943178772926)\n"
     ]
    }
   ],
   "source": [
    "import pandas as pd\n",
    "from scipy.stats import shapiro, levene\n",
    "from statsmodels.stats.anova import AnovaRM\n",
    "\n",
    "file_path = r\"C:\\Users\\maria\\Downloads\\Alzheimers Mice Data.csv\"\n",
    "df = pd.read_csv(file_path)\n",
    "\n",
    "print(df.head())\n",
    "\n",
    "# Assumptions\n",
    "# Homogeneity of variances\n",
    "homogeneity_test = levene(df['Training'], df['AD_Status'], df['Treatment'])\n",
    "print(f\"Homogeneity of Variances Test:\\n{homogeneity_test}\")\n",
    "\n",
    "# Normality\n",
    "normality_test = shapiro(df['Training'])\n",
    "print(f\"\\nNormality Test:\\n{normality_test}\")"
   ]
  },
  {
   "cell_type": "code",
   "execution_count": null,
   "id": "15fa8c9f-94f9-415d-8216-2e007f8ede27",
   "metadata": {},
   "outputs": [],
   "source": []
  }
 ],
 "metadata": {
  "kernelspec": {
   "display_name": "Python 3 (ipykernel)",
   "language": "python",
   "name": "python3"
  },
  "language_info": {
   "codemirror_mode": {
    "name": "ipython",
    "version": 3
   },
   "file_extension": ".py",
   "mimetype": "text/x-python",
   "name": "python",
   "nbconvert_exporter": "python",
   "pygments_lexer": "ipython3",
   "version": "3.10.5"
  }
 },
 "nbformat": 4,
 "nbformat_minor": 5
}
