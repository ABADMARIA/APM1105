{
 "cells": [
  {
   "cell_type": "code",
   "execution_count": 2,
   "metadata": {},
   "outputs": [
    {
     "data": {
      "text/plain": [
       "-33600"
      ]
     },
     "execution_count": 2,
     "metadata": {},
     "output_type": "execute_result"
    }
   ],
   "source": [
    "def totalproduct(total):\n",
    "    a=1\n",
    "    for num in total:\n",
    "        a = a*num\n",
    "    return a\n",
    "b = [5, 6, -1, 2, 4, -2, -10, 7]\n",
    "totalproduct(b)"
   ]
  },
  {
   "cell_type": "code",
   "execution_count": 59,
   "metadata": {},
   "outputs": [
    {
     "name": "stdout",
     "output_type": "stream",
     "text": [
      "$ x x x x $ x x x x $ x x x x $ x x x x $\n",
      "|         |         |         |         |         \n",
      "|         |         |         |         |         \n",
      "|         |         |         |         |         \n",
      "|         |         |         |         |         \n",
      "$ x x x x $ x x x x $ x x x x $ x x x x $\n",
      "|         |         |         |         |         \n",
      "|         |         |         |         |         \n",
      "|         |         |         |         |         \n",
      "|         |         |         |         |         \n",
      "$ x x x x $ x x x x $ x x x x $ x x x x $\n",
      "|         |         |         |         |         \n",
      "|         |         |         |         |         \n",
      "|         |         |         |         |         \n",
      "|         |         |         |         |         \n",
      "$ x x x x $ x x x x $ x x x x $ x x x x $\n",
      "|         |         |         |         |         \n",
      "|         |         |         |         |         \n",
      "|         |         |         |         |         \n",
      "|         |         |         |         |         \n",
      "$ x x x x $ x x x x $ x x x x $ x x x x $\n"
     ]
    }
   ],
   "source": [
    "def gridfunc():\n",
    "    print(\"$\" +\" x x x x $\"*4)\n",
    "    print(\"|         \"*5)\n",
    "    print(\"|         \"*5)\n",
    "    print(\"|         \"*5)\n",
    "    print(\"|         \"*5)\n",
    "    print(\"$\" +\" x x x x $\"*4)\n",
    "    print(\"|         \"*5)\n",
    "    print(\"|         \"*5)\n",
    "    print(\"|         \"*5)\n",
    "    print(\"|         \"*5)\n",
    "    print(\"$\" +\" x x x x $\"*4)\n",
    "    print(\"|         \"*5)\n",
    "    print(\"|         \"*5)\n",
    "    print(\"|         \"*5)\n",
    "    print(\"|         \"*5)\n",
    "    print(\"$\" +\" x x x x $\"*4)\n",
    "    print(\"|         \"*5)\n",
    "    print(\"|         \"*5)\n",
    "    print(\"|         \"*5)\n",
    "    print(\"|         \"*5)\n",
    "    print(\"$\" +\" x x x x $\"*4)\n",
    "gridfunc()\n",
    "    "
   ]
  },
  {
   "cell_type": "code",
   "execution_count": null,
   "metadata": {},
   "outputs": [],
   "source": []
  },
  {
   "cell_type": "code",
   "execution_count": null,
   "metadata": {},
   "outputs": [],
   "source": []
  }
 ],
 "metadata": {
  "kernelspec": {
   "display_name": "Python 3",
   "language": "python",
   "name": "python3"
  },
  "language_info": {
   "codemirror_mode": {
    "name": "ipython",
    "version": 3
   },
   "file_extension": ".py",
   "mimetype": "text/x-python",
   "name": "python",
   "nbconvert_exporter": "python",
   "pygments_lexer": "ipython3",
   "version": "3.7.0"
  }
 },
 "nbformat": 4,
 "nbformat_minor": 2
}
