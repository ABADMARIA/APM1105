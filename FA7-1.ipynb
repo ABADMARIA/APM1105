{
 "cells": [
  {
   "cell_type": "code",
   "execution_count": 1,
   "metadata": {},
   "outputs": [
    {
     "name": "stdout",
     "output_type": "stream",
     "text": [
      "The point is outside the circle.\n",
      "The rectangle is entirely inside the circle.\n",
      "The rectangle overlaps with the circle.\n"
     ]
    }
   ],
   "source": [
    "class Point:\n",
    "    def __init__(self, x, y):\n",
    "        self.x = x\n",
    "        self.y = y\n",
    "\n",
    "class Circle:\n",
    "    def __init__(self, center, radius):\n",
    "        self.center = center\n",
    "        self.radius = radius\n",
    "\n",
    "def point_in_circle(circle, point):\n",
    "    distance = ((point.x - circle.center.x)**2 + (point.y - circle.center.y)**2)**0.5\n",
    "    if distance <= circle.radius:\n",
    "        return True\n",
    "    else:\n",
    "        return False\n",
    "\n",
    "p = Point(300, 300)\n",
    "circle = Circle(Point(150, 100), 75)\n",
    "\n",
    "if point_in_circle(circle, p):\n",
    "    print(\"The point is inside the circle.\")\n",
    "else:\n",
    "    print(\"The point is outside the circle.\")\n",
    "    \n",
    "class Rectangle:\n",
    "    def __init__(self, corner, width, height):\n",
    "        self.corner = corner\n",
    "        self.width = width\n",
    "        self.height = height\n",
    "    \n",
    "def rect_in_circle(circle, rect):\n",
    "    corners = [rect.corner,\n",
    "               Point(rect.corner.x + rect.width, rect.corner.y),\n",
    "               Point(rect.corner.x, rect.corner.y - rect.height),\n",
    "               Point(rect.corner.x + rect.width, rect.corner.y - rect.height)]\n",
    "    \n",
    "    for corner in corners:\n",
    "        if point_in_circle(circle, corner):\n",
    "            return True\n",
    "    return False\n",
    "\n",
    "circle = Circle(Point(150, 100), 75)\n",
    "rect = Rectangle(Point(100, 50), 100, 100)\n",
    "\n",
    "if rect_in_circle(circle, rect):\n",
    "    print(\"The rectangle is entirely inside the circle.\")\n",
    "else:\n",
    "    print(\"The rectangle is not entirely inside the circle.\")\n",
    "    \n",
    "def rect_circle_overlap(circle, rect):\n",
    "    corners = [rect.corner,\n",
    "               Point(rect.corner.x + rect.width, rect.corner.y),\n",
    "               Point(rect.corner.x, rect.corner.y - rect.height),\n",
    "               Point(rect.corner.x + rect.width, rect.corner.y - rect.height)]\n",
    "    \n",
    "    for corner in corners:\n",
    "        if point_in_circle(circle, corner):\n",
    "            return True\n",
    "    return False\n",
    "if rect_circle_overlap(circle, rect):\n",
    "    print(\"The rectangle overlaps with the circle.\")\n",
    "else:\n",
    "    print(\"The rectangle does not overlap with the circle.\")\n",
    "\n"
   ]
  }
 ],
 "metadata": {
  "kernelspec": {
   "display_name": "Python 3 (ipykernel)",
   "language": "python",
   "name": "python3"
  },
  "language_info": {
   "codemirror_mode": {
    "name": "ipython",
    "version": 3
   },
   "file_extension": ".py",
   "mimetype": "text/x-python",
   "name": "python",
   "nbconvert_exporter": "python",
   "pygments_lexer": "ipython3",
   "version": "3.9.13"
  }
 },
 "nbformat": 4,
 "nbformat_minor": 2
}
