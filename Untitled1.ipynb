{
 "cells": [
  {
   "cell_type": "code",
   "execution_count": 1,
   "id": "1c71d6aa-4dff-4e74-8adf-660e81120c4f",
   "metadata": {
    "tags": []
   },
   "outputs": [
    {
     "name": "stdout",
     "output_type": "stream",
     "text": [
      "F-statistic: 0.748\n",
      "p-value: 0.539\n"
     ]
    }
   ],
   "source": [
    "import numpy as np\n",
    "import pandas as pd\n",
    "from scipy.stats import f_oneway\n",
    "\n",
    "# Create the data\n",
    "dataframe = pd.DataFrame({'Cars': np.repeat([1, 2, 3, 4, 5], 4),\n",
    "                          'Oil': np.tile([1, 2, 3, 4], 5),\n",
    "                          'Mileage': [36, 38, 30, 29,\n",
    "                                      34, 38, 30, 29,A\n",
    "                                      34, 28, 38, 32,\n",
    "                                      38, 34, 20, 44,\n",
    "                                      26, 28, 34, 50]})\n",
    "\n",
    "# Perform repeated-measures ANOVA\n",
    "f_statistic, p_value = f_oneway(\n",
    "    dataframe[dataframe['Oil'] == 1]['Mileage'],\n",
    "    dataframe[dataframe['Oil'] == 2]['Mileage'],\n",
    "    dataframe[dataframe['Oil'] == 3]['Mileage'],\n",
    "    dataframe[dataframe['Oil'] == 4]['Mileage']\n",
    ")\n",
    "\n",
    "# Output the results\n",
    "print(f'F-statistic: {f_statistic:.3f}')\n",
    "print(f'p-value: {p_value:.3f}')\n"
   ]
  },
  {
   "cell_type": "code",
   "execution_count": null,
   "id": "eb3f0823-bd39-4e32-adf3-65ffedbab275",
   "metadata": {},
   "outputs": [],
   "source": []
  }
 ],
 "metadata": {
  "kernelspec": {
   "display_name": "Python 3 (ipykernel)",
   "language": "python",
   "name": "python3"
  },
  "language_info": {
   "codemirror_mode": {
    "name": "ipython",
    "version": 3
   },
   "file_extension": ".py",
   "mimetype": "text/x-python",
   "name": "python",
   "nbconvert_exporter": "python",
   "pygments_lexer": "ipython3",
   "version": "3.10.5"
  }
 },
 "nbformat": 4,
 "nbformat_minor": 5
}
