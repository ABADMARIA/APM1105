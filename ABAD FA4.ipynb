{
 "cells": [
  {
   "cell_type": "code",
   "execution_count": 17,
   "id": "c4fd9ac2-98ac-44c4-a22a-3a115620c516",
   "metadata": {
    "tags": []
   },
   "outputs": [
    {
     "name": "stdout",
     "output_type": "stream",
     "text": [
      "Normal Data Moments:\n",
      "Dataset 1: Mean = 65.05, Variance = 9.2475, Skewness = -0.1969, Kurtosis = 2.3086\n",
      "Dataset 2: Mean = 65.35, Variance = 9.2275, Skewness = -0.217, Kurtosis = 2.1665\n",
      "\n",
      "Skewed Right Data Moments:\n",
      "Dataset 1: Mean = 35.65, Variance = 141.5275, Skewness = 1.8742, Kurtosis = 6.5374\n",
      "Dataset 2: Mean = 36.15, Variance = 141.6275, Skewness = 1.7536, Kurtosis = 6.2237\n",
      "\n",
      "Skewed Left Data Moments:\n",
      "Dataset 1: Mean = 81.55, Variance = 174.7475, Skewness = -0.1453, Kurtosis = 2.24\n",
      "Dataset 2: Mean = 78.05, Variance = 253.5475, Skewness = -0.7627, Kurtosis = 3.6264\n",
      "\n",
      "Uniform Data Moments:\n",
      "Dataset 1: Mean = 11.975, Variance = 0.0739, Skewness = -0.1988, Kurtosis = 1.4957\n",
      "Dataset 2: Mean = 11.975, Variance = 0.0739, Skewness = -0.1988, Kurtosis = 1.4957\n"
     ]
    }
   ],
   "source": [
    "normdat = [[67, 69, 70, 62, 63, 67, 65, 59, 68, 66, 60, 65, 70, 63, 64, 65, 61, 67, 66, 64],\n",
    "               [69, 62, 67, 65, 59, 65, 63, 70, 63, 67, 70, 62, 69, 67, 65, 61, 68, 66, 63, 66]]\n",
    "\n",
    "skewed_rightdat = [[31, 40, 43, 24, 30, 29, 30, 24, 38, 27, 26, 35, 29, 33, 55, 75, 46, 38, 26, 34],\n",
    "                     [40, 43, 24, 30, 29, 30, 24, 38, 27, 26, 35, 29, 33, 55, 75, 46, 38, 26, 34, 41]]\n",
    "\n",
    "skewed_leftdat = [[102, 87, 55, 104, 70, 75, 95, 80, 73, 66, 79, 93, 60, 90, 73, 84, 89, 73, 85, 98],\n",
    "                    [87, 55, 104, 70, 75, 95, 80, 73, 66, 79, 93, 60, 90, 73, 85, 98, 72, 79, 92, 35]]\n",
    "\n",
    "unifdat = [[12.1, 11.6, 12.1, 11.6, 12.4, 12.0, 12.1, 11.6, 12.1, 11.6, 12.2, 11.7, 12.2, 12.3, 12.2, 11.7, 12.2, 11.7, 12.3, 11.8],\n",
    "                [12.1, 11.6, 12.1, 11.6, 12.4, 12.0, 12.1, 11.6, 12.1, 11.6, 12.2, 11.7, 12.2, 12.3, 12.2, 11.7, 12.2, 11.7, 12.3, 11.8]]\n",
    "\n",
    "def calcmoments(data):\n",
    "    moments = []\n",
    "    for dataset in data:\n",
    "        n = len(dataset)\n",
    "        mean = round(sum(dataset) / n, 4)\n",
    "        variance = round(sum((x - mean) ** 2 for x in dataset) / n, 4)\n",
    "        skewness = round(sum((x - mean) ** 3 for x in dataset) / (n * variance ** 1.5), 4)\n",
    "        kurtosis = round(sum((x - mean) ** 4 for x in dataset) / (n * variance ** 2), 4)\n",
    "        moments.append((mean, variance, skewness, kurtosis))\n",
    "    return moments\n",
    "\n",
    "norm_moment = calcmoments(normdat)\n",
    "skewedright_moment = calcmoments(skewed_rightdat)\n",
    "skewedleft_moment = calcmoments(skewed_leftdat)\n",
    "unif_moment = calcmoments(unifdat)\n",
    "\n",
    "print(\"Normal Data Moments:\")\n",
    "for i, moment in enumerate(norm_moment):\n",
    "    print(f\"Dataset {i + 1}: Mean = {moment[0]}, Variance = {moment[1]}, Skewness = {moment[2]}, Kurtosis = {moment[3]}\")\n",
    "\n",
    "print(\"\\nSkewed Right Data Moments:\")\n",
    "for i, moment in enumerate(skewedright_moment):\n",
    "    print(f\"Dataset {i + 1}: Mean = {moment[0]}, Variance = {moment[1]}, Skewness = {moment[2]}, Kurtosis = {moment[3]}\")\n",
    "\n",
    "print(\"\\nSkewed Left Data Moments:\")\n",
    "for i, moment in enumerate(skewedleft_moment):\n",
    "    print(f\"Dataset {i + 1}: Mean = {moment[0]}, Variance = {moment[1]}, Skewness = {moment[2]}, Kurtosis = {moment[3]}\")\n",
    "\n",
    "print(\"\\nUniform Data Moments:\")\n",
    "for i, moment in enumerate(unif_moment):\n",
    "    print(f\"Dataset {i + 1}: Mean = {moment[0]}, Variance = {moment[1]}, Skewness = {moment[2]}, Kurtosis = {moment[3]}\")\n"
   ]
  },
  {
   "cell_type": "code",
   "execution_count": 16,
   "id": "749ea4c1-892f-4ef0-a033-2945ff8549b2",
   "metadata": {
    "tags": []
   },
   "outputs": [
    {
     "name": "stdout",
     "output_type": "stream",
     "text": [
      "Normal Data Moments:\n",
      "(a) 1st Moment: -0.0, (b) 2nd Moment: 9.26, (c) 3rd Moment: -5.814, (d) 4th Moment: 192.0272\n",
      "\n",
      "Skewed_right Data Moments:\n",
      "(a) 1st Moment: 0.0, (b) 2nd Moment: 141.64, (c) 3rd Moment: 3055.593, (d) 4th Moment: 127843.7887\n",
      "\n",
      "Skewed_left Data Moments:\n",
      "(a) 1st Moment: 0.0, (b) 2nd Moment: 217.21, (c) 3rd Moment: -1914.216, (d) 4th Moment: 164311.4452\n",
      "\n",
      "Uniform Data Moments:\n",
      "(a) 1st Moment: 0.0, (b) 2nd Moment: 0.07388, (c) 3rd Moment: -0.00399, (d) 4th Moment: 0.00817\n",
      "\n"
     ]
    }
   ],
   "source": [
    "data = {\n",
    "    \"normal\": [[67, 69, 70, 62, 63, 67, 65, 59, 68, 66, 60, 65, 70, 63, 64, 65, 61, 67, 66, 64],\n",
    "               [69, 62, 67, 65, 59, 65, 63, 70, 63, 67, 70, 62, 69, 67, 65, 61, 68, 66, 63, 66]],\n",
    "    \n",
    "    \"skewed_right\": [[31, 40, 43, 24, 30, 29, 30, 24, 38, 27, 26, 35, 29, 33, 55, 75, 46, 38, 26, 34],\n",
    "                     [40, 43, 24, 30, 29, 30, 24, 38, 27, 26, 35, 29, 33, 55, 75, 46, 38, 26, 34, 41]],\n",
    "    \n",
    "    \"skewed_left\": [[102, 87, 55, 104, 70, 75, 95, 80, 73, 66, 79, 93, 60, 90, 73, 84, 89, 73, 85, 98],\n",
    "                    [87, 55, 104, 70, 75, 95, 80, 73, 66, 79, 93, 60, 90, 73, 85, 98, 72, 79, 92, 35]],\n",
    "    \n",
    "    \"uniform\": [[12.1, 11.6, 12.1, 11.6, 12.4, 12.0, 12.1, 11.6, 12.1, 11.6, 12.2, 11.7, 12.2, 12.3, 12.2, 11.7, 12.2, 11.7, 12.3, 11.8],\n",
    "                [12.1, 11.6, 12.1, 11.6, 12.4, 12.0, 12.1, 11.6, 12.1, 11.6, 12.2, 11.7, 12.2, 12.3, 12.2, 11.7, 12.2, 11.7, 12.3, 11.8]]\n",
    "}\n",
    "\n",
    "def central_moments(dataset, k):\n",
    "    n = len(dataset)\n",
    "    mean = round(sum(dataset) / n, 5)\n",
    "    central_moment = round(sum((x - mean) ** k for x in dataset) / n, 5)\n",
    "    return central_moment\n",
    "\n",
    "for distribution, dataset in data.items():\n",
    "    print(f\"{distribution.capitalize()} Data Moments:\")\n",
    "    moments_list = []\n",
    "    for i in range(1, 5):\n",
    "        moment = central_moments(dataset[0] + dataset[1], i) \n",
    "        if i == 1:\n",
    "            moments_list.append(f\"({chr(96 + i)}) 1st Moment: {moment}\")\n",
    "        elif i == 2:\n",
    "            moments_list.append(f\"({chr(96 + i)}) 2nd Moment: {moment}\")\n",
    "        elif i == 3:\n",
    "            moments_list.append(f\"({chr(96 + i)}) 3rd Moment: {moment}\")\n",
    "        else:\n",
    "            moments_list.append(f\"({chr(96 + i)}) 4th Moment: {moment}\")\n",
    "    print(\", \".join(moments_list))\n",
    "    print()\n"
   ]
  },
  {
   "cell_type": "code",
   "execution_count": 14,
   "id": "2f39a6a6-36d9-4831-8f7a-6778a6492431",
   "metadata": {
    "tags": []
   },
   "outputs": [
    {
     "name": "stdout",
     "output_type": "stream",
     "text": [
      "(a) First Moment about number 75: -199\n",
      "(b) Second Moment about number 75: 2165\n",
      "(c) Third Moment about number 75: -25333\n",
      "(d) Fourth Moment about number 75: 314249\n"
     ]
    }
   ],
   "source": [
    "femheights = [67, 69, 70, 62, 63, 67, 65, 59, 68, 66, 60, 65, 70, 63, 64, 65, 61, 67, 66, 64]\n",
    "\n",
    "numtocent = 75\n",
    "\n",
    "def raw_moments(data, num, k):\n",
    "    moments = []\n",
    "    for x in data:\n",
    "        moment = (x - num) ** k\n",
    "        moments.append(moment)\n",
    "    return moments\n",
    "\n",
    "moment1 = sum(raw_moments(femheights, numtocent, 1))\n",
    "moment2 = sum(raw_moments(femheights, numtocent, 2))\n",
    "moment3 = sum(raw_moments(femheights, numtocent, 3))\n",
    "moment4 = sum(raw_moments(femheights, numtocent, 4))\n",
    "\n",
    "print(f\"(a) First Moment about number 75: {moment1}\")\n",
    "print(f\"(b) Second Moment about number 75: {moment2}\")\n",
    "print(f\"(c) Third Moment about number 75: {moment3}\")\n",
    "print(f\"(d) Fourth Moment about number 75: {moment4}\")\n"
   ]
  },
  {
   "cell_type": "code",
   "execution_count": 5,
   "id": "1635b6d0-98f5-4965-89e8-fbfaa61416d9",
   "metadata": {
    "tags": []
   },
   "outputs": [
    {
     "name": "stdout",
     "output_type": "stream",
     "text": [
      "(a) First Moment about the Mean: 0.0\n",
      "(b) Second Moment about the Mean: 9.2475\n",
      "(c) Third Moment about the Mean: -5.5372\n",
      "(d) Fourth Moment about the Mean: 197.4187\n",
      "\n",
      "Relations Verification:\n",
      "(a) m2 = m'2 - m'1^2: True\n",
      "(b) m3 = m'3 - 3 * m'1 * m'2 + 2 * m'1^3: True\n",
      "(c) m4 = m'4 - 4 * m'1 * m'3 + 6 * m'2 * m'1^2 - 3 * m'1^4: True\n"
     ]
    }
   ],
   "source": [
    "femheights = [67, 69, 70, 62, 63, 67, 65, 59, 68, 66, 60, 65, 70, 63, 64, 65, 61, 67, 66, 64]\n",
    "\n",
    "mean_height = sum(femheights) / len(femheights)\n",
    "\n",
    "def moments_about_mean(data, k):\n",
    "    centmoment = round(sum((x - mean_height) ** k for x in data) / len(data), 4)\n",
    "    return centmoment\n",
    "\n",
    "def moments_about_number(data, num, k):\n",
    "    moment = round(sum((x - num) ** k for x in data) / len(data), 4)\n",
    "    return moment\n",
    "\n",
    "m1 = moments_about_mean(female_heights, 1)\n",
    "m2 = moments_about_mean(female_heights, 2)\n",
    "m3 = moments_about_mean(female_heights, 3)\n",
    "m4 = moments_about_mean(female_heights, 4)\n",
    "\n",
    "num = 75\n",
    "m1_about_num = moments_about_number(femheights, num, 1)\n",
    "m2_about_num = moments_about_number(femheights, num, 2)\n",
    "m3_about_num = moments_about_number(femheights, num, 3)\n",
    "m4_about_num = moments_about_number(femheights, num, 4)\n",
    "\n",
    "rel_a = round(m2, 4) == round(m2_about_num - m1_about_num ** 2, 4)\n",
    "rel_b = round(m3, 4) == round(m3_about_num - 3 * m1_about_num * m2_about_num + 2 * m1_about_num ** 3, 4)\n",
    "rel_c = round(m4, 4) == round(m4_about_num - 4 * m1_about_num * m3_about_num + 6 * m2_about_num * m1_about_num ** 2 - 3 * m1_about_num ** 4, 4)\n",
    "\n",
    "print(\"(a) First Moment about the Mean:\", m1)\n",
    "print(\"(b) Second Moment about the Mean:\", m2)\n",
    "print(\"(c) Third Moment about the Mean:\", m3)\n",
    "print(\"(d) Fourth Moment about the Mean:\", m4)\n",
    "\n",
    "print(\"\\nRelations Verification:\")\n",
    "print(\"(a) m2 = m'2 - m'1^2:\", rel_a)\n",
    "print(\"(b) m3 = m'3 - 3 * m'1 * m'2 + 2 * m'1^3:\", rel_b)\n",
    "print(\"(c) m4 = m'4 - 4 * m'1 * m'3 + 6 * m'2 * m'1^2 - 3 * m'1^4:\", rel_c)\n"
   ]
  },
  {
   "cell_type": "code",
   "execution_count": null,
   "id": "d6c8a7d5-e095-4175-a667-cb9f0b49eadf",
   "metadata": {},
   "outputs": [],
   "source": []
  }
 ],
 "metadata": {
  "kernelspec": {
   "display_name": "Python 3 (ipykernel)",
   "language": "python",
   "name": "python3"
  },
  "language_info": {
   "codemirror_mode": {
    "name": "ipython",
    "version": 3
   },
   "file_extension": ".py",
   "mimetype": "text/x-python",
   "name": "python",
   "nbconvert_exporter": "python",
   "pygments_lexer": "ipython3",
   "version": "3.10.5"
  }
 },
 "nbformat": 4,
 "nbformat_minor": 5
}
