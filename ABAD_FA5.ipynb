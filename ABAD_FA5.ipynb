{
 "cells": [
  {
   "cell_type": "code",
   "execution_count": 9,
   "id": "fefacab2-20f0-4032-b37e-189ef1eae804",
   "metadata": {},
   "outputs": [
    {
     "name": "stdout",
     "output_type": "stream",
     "text": [
      "Sample Means: [9.0, 10.5, 12.0, 10.5, 12.0, 13.5, 12.0, 13.5, 15.0]\n",
      "Variance of Sample Means: 3.0\n",
      "Expected Variance of Sample Means: 3.0\n"
     ]
    },
    {
     "data": {
      "image/png": "[encoded data removed]",
      "text/plain": [
       "<Figure size 640x480 with 1 Axes>"
      ]
     },
     "metadata": {},
     "output_type": "display_data"
    }
   ],
   "source": [
    "#8.18\n",
    "import numpy as np\n",
    "import matplotlib.pyplot as plt\n",
    "\n",
    "meanX = 12\n",
    "varianceX = 6\n",
    "samples = [(9, 9), (9, 12), (9, 15), (12, 9), (12, 12), (12, 15), (15, 9), (15, 12), (15, 15)]\n",
    "sample_means = [np.mean(sample) for sample in samples]\n",
    "varsample_means = np.var(sample_means)\n",
    "expected_variance = varianceX / 2\n",
    " \n",
    "print(\"Sample Means:\", sample_means)\n",
    "print(\"Variance of Sample Means:\", varsample_means)\n",
    "print(\"Expected Variance of Sample Means:\", expected_variance)\n",
    "\n",
    "plt.hist(sample_means, bins=5, edgecolor='black')\n",
    "plt.xlabel('Sample Mean')\n",
    "plt.ylabel('Frequency')\n",
    "plt.title('Sampling Distribution of the Mean')\n",
    "plt.show()\n"
   ]
  },
  {
   "cell_type": "code",
   "execution_count": 9,
   "id": "f173edca-73b2-49e1-afcd-d3f4fefc13a8",
   "metadata": {
    "tags": []
   },
   "outputs": [
    {
     "name": "stdout",
     "output_type": "stream",
     "text": [
      "a) Population Mean: 9.0\n",
      "b) Population Standard Deviation: 4.47213595499958\n",
      "c) Mean of Sampling Distribution of Means: 9.0\n",
      "d) Standard Deviation of Sampling Distribution of Means: 3.162277660168379\n"
     ]
    }
   ],
   "source": [
    "#8.21\n",
    "import numpy as np\n",
    "\n",
    "population = np.array([3, 7, 11, 15])\n",
    "pop_mean = np.mean(population)\n",
    "pop_std = np.std(population)\n",
    "samp_size = 2\n",
    "sampdistribution_mean = pop_mean\n",
    "sampdistribution_std = pop_std / np.sqrt(samp_size)\n",
    "\n",
    "print(\"a) Population Mean:\", pop_mean)\n",
    "print(\"b) Population Standard Deviation:\", pop_std)\n",
    "print(\"c) Mean of Sampling Distribution of Means:\", sampdistribution_mean)\n",
    "print(\"d) Standard Deviation of Sampling Distribution of Means:\", sampdistribution_std)\n"
   ]
  },
  {
   "cell_type": "code",
   "execution_count": null,
   "id": "c8d4030a-8399-4fae-8002-d347227b6ef7",
   "metadata": {
    "tags": []
   },
   "outputs": [],
   "source": [
    "#8.34\n",
    "import scipy.stats as stats\n",
    "\n",
    "n = 200\n",
    "p = 0.5\n",
    "\n",
    "#a) Probability that less than 40% will be boys\n",
    "k_a = int(0.4 * n)\n",
    "prob_lessthan40_boys = round(sum(stats.binom.pmf(k, n, p) for k in range(k_a)), 4)\n",
    "print(\"a) Probability of less than 40% boys:\", prob_lessthan40_boys)\n",
    "\n",
    "#b) between 43% and 57% will be girls\n",
    "kb_lower = int(0.43 * n)\n",
    "kb_upper = int(0.57 * n)\n",
    "prob_between43n57_girls = round(sum(stats.binom.pmf(k, n, p) for k in range(kb_lower, kb_upper + 1)), 4)\n",
    "print(\"b) Probability between 43% and 57% girls:\", prob_between43n57_girls)\n",
    "\n",
    "#c) more than 54% will be boys\n",
    "k_c = int(0.54 * n)\n",
    "prob_morethan54_boys = round(1 - sum(stats.binom.pmf(k, n, p) for k in range(k_c)), 4)\n",
    "print(\"c) Probability of more than 54% boys:\", prob_morethan54_boys)"
   ]
  },
  {
   "cell_type": "code",
   "execution_count": 10,
   "id": "288e12ad-0d12-46ee-9519-23683ef07c63",
   "metadata": {
    "tags": []
   },
   "outputs": [
    {
     "name": "stdout",
     "output_type": "stream",
     "text": [
      "Mean (μ): 12.0\n",
      "Variance (σ^2): 10.8\n",
      "Sample: (6, 6), Mean: 6.0, Probability: 0.01\n",
      "Sample: (6, 9), Mean: 7.5, Probability: 0.02\n",
      "Sample: (6, 12), Mean: 9.0, Probability: 0.04\n",
      "Sample: (6, 15), Mean: 10.5, Probability: 0.02\n",
      "Sample: (6, 18), Mean: 12.0, Probability: 0.01\n",
      "Sample: (9, 6), Mean: 7.5, Probability: 0.02\n",
      "Sample: (9, 9), Mean: 9.0, Probability: 0.04\n",
      "Sample: (9, 12), Mean: 10.5, Probability: 0.08\n",
      "Sample: (9, 15), Mean: 12.0, Probability: 0.04\n",
      "Sample: (9, 18), Mean: 13.5, Probability: 0.02\n",
      "Sample: (12, 6), Mean: 9.0, Probability: 0.04\n",
      "Sample: (12, 9), Mean: 10.5, Probability: 0.08\n",
      "Sample: (12, 12), Mean: 12.0, Probability: 0.16\n",
      "Sample: (12, 15), Mean: 13.5, Probability: 0.08\n",
      "Sample: (12, 18), Mean: 15.0, Probability: 0.04\n",
      "Sample: (15, 6), Mean: 10.5, Probability: 0.02\n",
      "Sample: (15, 9), Mean: 12.0, Probability: 0.04\n",
      "Sample: (15, 12), Mean: 13.5, Probability: 0.08\n",
      "Sample: (15, 15), Mean: 15.0, Probability: 0.04\n",
      "Sample: (15, 18), Mean: 16.5, Probability: 0.02\n",
      "Sample: (18, 6), Mean: 12.0, Probability: 0.01\n",
      "Sample: (18, 9), Mean: 13.5, Probability: 0.02\n",
      "Sample: (18, 12), Mean: 15.0, Probability: 0.04\n",
      "Sample: (18, 15), Mean: 16.5, Probability: 0.02\n",
      "Sample: (18, 18), Mean: 18.0, Probability: 0.01\n"
     ]
    }
   ],
   "source": [
    "#8.49\n",
    "from itertools import product\n",
    "\n",
    "x = [6, 9, 12, 15, 18]\n",
    "p_x = [0.1, 0.2, 0.4, 0.2, 0.1]\n",
    "\n",
    "mean = sum(x[i] * p_x[i] for i in range(len(x)))\n",
    "variance = sum((x[i] - mean) ** 2 * p_x[i] for i in range(len(x)))\n",
    "\n",
    "print(\"Mean (μ):\", round(mean, 4))\n",
    "print(\"Variance (σ^2):\", round(variance, 4))\n",
    "\n",
    "samples = list(product(x, repeat=2))\n",
    "\n",
    "sample_means = [round((sample[0] + sample[1]) / 2, 4) for sample in samples]\n",
    "sample_probabilities = [round(p_x[x.index(sample[0])] * p_x[x.index(sample[1])], 4) for sample in samples]\n",
    "\n",
    "for i in range(len(samples)):\n",
    "    print(f\"Sample: {samples[i]}, Mean: {sample_means[i]}, Probability: {sample_probabilities[i]}\")\n"
   ]
  },
  {
   "cell_type": "code",
   "execution_count": null,
   "id": "63c60eec-7ff5-40c7-904e-5db7082ac051",
   "metadata": {},
   "outputs": [],
   "source": []
  }
 ],
 "metadata": {
  "kernelspec": {
   "display_name": "Python 3 (ipykernel)",
   "language": "python",
   "name": "python3"
  },
  "language_info": {
   "codemirror_mode": {
    "name": "ipython",
    "version": 3
   },
   "file_extension": ".py",
   "mimetype": "text/x-python",
   "name": "python",
   "nbconvert_exporter": "python",
   "pygments_lexer": "ipython3",
   "version": "3.10.5"
  }
 },
 "nbformat": 4,
 "nbformat_minor": 5
}
