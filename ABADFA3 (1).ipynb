{
 "cells": [
  {
   "cell_type": "code",
   "execution_count": 5,
   "id": "52be162e",
   "metadata": {},
   "outputs": [
    {
     "name": "stdout",
     "output_type": "stream",
     "text": [
      "                     Statistic   Value\n",
      "0                 Total Values  60.000\n",
      "1                         Mode  28.000\n",
      "2                       Median  57.000\n",
      "3                         Mean  59.167\n",
      "4           Standard Deviation  22.211\n",
      "5                     Variance 493.328\n",
      "6                     Skewness   0.167\n",
      "7                     Kurtosis  -1.241\n",
      "8   Standard Error of Kurtosis   0.580\n",
      "9                      Minimum  25.000\n",
      "10                     Maximum  99.000\n",
      "11             25th Percentile  37.750\n",
      "12             50th Percentile  57.000\n",
      "13             75th Percentile  76.000\n",
      "14             90th Percentile  89.200\n",
      "15             95th Percentile  94.100\n"
     ]
    }
   ],
   "source": [
    "import pandas as pd\n",
    "import numpy as np\n",
    "from scipy.stats import kurtosis, sem\n",
    "\n",
    "data = [88, 45, 53, 86, 33, 86, 85, 30, 89, 53, 41, 96, 56, 38, 62,\n",
    "        71, 51, 86, 68, 29, 28, 47, 33, 37, 25, 36, 33, 94, 73, 46,\n",
    "        42, 34, 79, 72, 88, 99, 82, 62, 57, 42, 28, 55, 67, 62, 60,\n",
    "        96, 61, 57, 75, 93, 34, 75, 53, 32, 28, 73, 51, 69, 91, 35]\n",
    "\n",
    "df = pd.DataFrame(data, columns=['Values'])\n",
    "\n",
    "total_values = len(df)\n",
    "mode = df['Values'].mode().values[0]\n",
    "median = df['Values'].median()\n",
    "mean = df['Values'].mean()\n",
    "std_deviation = df['Values'].std()\n",
    "variance = df['Values'].var()\n",
    "skewness = df['Values'].skew()\n",
    "\n",
    "# Use Fisher-Pearson formula\n",
    "kurtosis_value = kurtosis(df['Values'], fisher=True)\n",
    "sek = 2 * np.sqrt((6 * (total_values**2 - 1) * (total_values + 1)) / ((total_values - 3) * (total_values + 3) * (total_values + 5) * (total_values + 7)))\n",
    "\n",
    "minimum = df['Values'].min()\n",
    "maximum = df['Values'].max()\n",
    "\n",
    "\n",
    "percentiles = df['Values'].quantile([0.25, 0.5, 0.75, 0.9, 0.95])\n",
    "\n",
    "results = {\n",
    "    'Total Values': total_values,\n",
    "    'Mode': round(mode, 5),\n",
    "    'Median': round(median, 5),\n",
    "    'Mean': round(mean, 5),\n",
    "    'Standard Deviation': round(std_deviation, 5),\n",
    "    'Variance': round(variance, 5),\n",
    "    'Skewness': round(skewness, 5),\n",
    "    'Kurtosis': round(kurtosis_value, 5),\n",
    "    'Standard Error of Kurtosis': round(sek, 5),\n",
    "    'Minimum': round(minimum, 5),\n",
    "    'Maximum': round(maximum, 5),\n",
    "    '25th Percentile': round(percentiles[0.25], 5),\n",
    "    '50th Percentile': round(percentiles[0.5], 5),\n",
    "    '75th Percentile': round(percentiles[0.75], 5),\n",
    "    '90th Percentile': round(percentiles[0.9], 5),\n",
    "    '95th Percentile': round(percentiles[0.95], 5)\n",
    "}\n",
    "\n",
    "statistics_table = pd.DataFrame(list(results.items()), columns=['Statistic', 'Value'])\n",
    "print(statistics_table)"
   ]
  },
  {
   "cell_type": "code",
   "execution_count": null,
   "id": "70733584",
   "metadata": {},
   "outputs": [],
   "source": []
  }
 ],
 "metadata": {
  "kernelspec": {
   "display_name": "Python 3 (ipykernel)",
   "language": "python",
   "name": "python3"
  },
  "language_info": {
   "codemirror_mode": {
    "name": "ipython",
    "version": 3
   },
   "file_extension": ".py",
   "mimetype": "text/x-python",
   "name": "python",
   "nbconvert_exporter": "python",
   "pygments_lexer": "ipython3",
   "version": "3.9.13"
  }
 },
 "nbformat": 4,
 "nbformat_minor": 5
}
