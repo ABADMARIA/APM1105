{
 "cells": [
  {
   "cell_type": "code",
   "execution_count": 1,
   "id": "d1ad3cfa-8c58-4023-8951-621c6a6be388",
   "metadata": {
    "tags": []
   },
   "outputs": [
    {
     "ename": "ModuleNotFoundError",
     "evalue": "No module named 'pandas'",
     "output_type": "error",
     "traceback": [
      "\u001b[1;31m---------------------------------------------------------------------------\u001b[0m",
      "\u001b[1;31mModuleNotFoundError\u001b[0m                       Traceback (most recent call last)",
      "Cell \u001b[1;32mIn[1], line 2\u001b[0m\n\u001b[0;32m      1\u001b[0m \u001b[38;5;28;01mimport\u001b[39;00m \u001b[38;5;21;01mscipy\u001b[39;00m\u001b[38;5;21;01m.\u001b[39;00m\u001b[38;5;21;01mstats\u001b[39;00m \u001b[38;5;28;01mas\u001b[39;00m \u001b[38;5;21;01mstats\u001b[39;00m\n\u001b[1;32m----> 2\u001b[0m \u001b[38;5;28;01mimport\u001b[39;00m \u001b[38;5;21;01mpandas\u001b[39;00m \u001b[38;5;28;01mas\u001b[39;00m \u001b[38;5;21;01mpd\u001b[39;00m\n\u001b[0;32m      4\u001b[0m data \u001b[38;5;241m=\u001b[39m {\n\u001b[0;32m      5\u001b[0m     \u001b[38;5;124m'\u001b[39m\u001b[38;5;124mParticipant\u001b[39m\u001b[38;5;124m'\u001b[39m: \u001b[38;5;28mlist\u001b[39m(\u001b[38;5;28mrange\u001b[39m(\u001b[38;5;241m1\u001b[39m, \u001b[38;5;241m25\u001b[39m)),\n\u001b[0;32m      6\u001b[0m     \u001b[38;5;124m'\u001b[39m\u001b[38;5;124mCloak\u001b[39m\u001b[38;5;124m'\u001b[39m: [\u001b[38;5;241m0\u001b[39m] \u001b[38;5;241m*\u001b[39m \u001b[38;5;241m12\u001b[39m \u001b[38;5;241m+\u001b[39m [\u001b[38;5;241m1\u001b[39m] \u001b[38;5;241m*\u001b[39m \u001b[38;5;241m12\u001b[39m,\n\u001b[0;32m      7\u001b[0m     \u001b[38;5;124m'\u001b[39m\u001b[38;5;124mMischief\u001b[39m\u001b[38;5;124m'\u001b[39m: [\u001b[38;5;241m3\u001b[39m, \u001b[38;5;241m1\u001b[39m, \u001b[38;5;241m5\u001b[39m, \u001b[38;5;241m4\u001b[39m, \u001b[38;5;241m6\u001b[39m, \u001b[38;5;241m4\u001b[39m, \u001b[38;5;241m6\u001b[39m, \u001b[38;5;241m2\u001b[39m, \u001b[38;5;241m0\u001b[39m, \u001b[38;5;241m5\u001b[39m, \u001b[38;5;241m4\u001b[39m, \u001b[38;5;241m5\u001b[39m, \u001b[38;5;241m4\u001b[39m, \u001b[38;5;241m3\u001b[39m, \u001b[38;5;241m6\u001b[39m, \u001b[38;5;241m6\u001b[39m, \u001b[38;5;241m8\u001b[39m, \u001b[38;5;241m5\u001b[39m, \u001b[38;5;241m5\u001b[39m, \u001b[38;5;241m4\u001b[39m, \u001b[38;5;241m2\u001b[39m, \u001b[38;5;241m5\u001b[39m, \u001b[38;5;241m7\u001b[39m, \u001b[38;5;241m5\u001b[39m]\n\u001b[0;32m      8\u001b[0m }\n\u001b[0;32m     10\u001b[0m df \u001b[38;5;241m=\u001b[39m pd\u001b[38;5;241m.\u001b[39mDataFrame(data)\n",
      "\u001b[1;31mModuleNotFoundError\u001b[0m: No module named 'pandas'"
     ]
    }
   ],
   "source": [
    "import scipy.stats as stats\n",
    "import pandas as pd\n",
    "\n",
    "data = {\n",
    "    'Participant': list(range(1, 25)),\n",
    "    'Cloak': [0] * 12 + [1] * 12,\n",
    "    'Mischief': [3, 1, 5, 4, 6, 4, 6, 2, 0, 5, 4, 5, 4, 3, 6, 6, 8, 5, 5, 4, 2, 5, 7, 5]\n",
    "}\n",
    "\n",
    "df = pd.DataFrame(data)\n",
    "# 1st assumption: Normality\n",
    "_, pval_cloak = stats.shapiro(df[df['Cloak'] == 0]['Mischief'])\n",
    "_, pval_no_cloak = stats.shapiro(df[df['Cloak'] == 1]['Mischief'])\n",
    "# 2nd assumption: Homogeneity of Variances\n",
    "_, pval_variances = stats.levene(df[df['Cloak'] == 0]['Mischief'], df[df['Cloak'] == 1]['Mischief'])\n",
    "\n",
    "print(\"Assumption 1: Normality Check\")\n",
    "print(f\"P-value for Cloak=0 group: {pval_cloak}\")\n",
    "print(f\"P-value for Cloak=1 group: {pval_no_cloak}\")\n",
    "\n",
    "if pval_cloak > 0.05 and pval_no_cloak > 0.05:\n",
    "    print(\"Result: Normality is met for both groups.\")\n",
    "else:\n",
    "    print(\"Result: Normality is not met for one or both groups.\")\n",
    "\n",
    "print(\"\\nAssumption 2: Homogeneity of Variances Check\")\n",
    "print(f\"P-value for Levene's test: {pval_variances}\")\n",
    "\n",
    "if pval_variances > 0.05:\n",
    "    print(\"Result: Homogeneity of Variances is met.\")\n",
    "else:\n",
    "    print(\"Result: Homogeneity of Variances is not met.\")\n",
    "\n",
    "# Perform the independent samples t-test\n",
    "# 3rd assumption\n",
    "print(\"\\nAssumption 3: Independent Samples\")\n",
    "print(\"The samples are independent by design, as each participant belongs to only one group.\")\n",
    "# 4th assumption: Interval or Ratio Scale\n",
    "print(\"\\nAssumption 4: Interval or Ratio Scale\")\n",
    "print(\"The Mischief scores are on an interval scale.\")\n",
    "# 5th assumption: Random Sampling\n",
    "print(\"\\nAssumption 5: Random Sampling\")\n",
    "print(\"Assuming that the data was collected randomly.\")\n",
    "\n",
    "print(\"\\nPerforming Independent Samples t-test\")\n",
    "t_stat, pval_ttest = stats.ttest_ind(df[df['Cloak'] == 0]['Mischief'], df[df['Cloak'] == 1]['Mischief'])\n",
    "print(\"\\nIndependent Samples t-test Results:\")\n",
    "print(f\"t-statistic: {t_stat}\")\n",
    "print(f\"P-value: {pval_ttest}\")\n",
    "print(\"\\nInterpretation of Results:\")\n",
    "if pval_ttest < 0.05:\n",
    "    print(\"Conclusion: The diff in Mischief scores between the two groups is statistically significant.\")\n",
    "else:\n",
    "    print(\"Conclusion: The diff in Mischief scores between the two groups is not statistically significant.\")\n"
   ]
  },
  {
   "cell_type": "code",
   "execution_count": null,
   "id": "476da549-ef49-4687-a799-8d6f881001ff",
   "metadata": {},
   "outputs": [],
   "source": []
  }
 ],
 "metadata": {
  "kernelspec": {
   "display_name": "Python 3 (ipykernel)",
   "language": "python",
   "name": "python3"
  },
  "language_info": {
   "codemirror_mode": {
    "name": "ipython",
    "version": 3
   },
   "file_extension": ".py",
   "mimetype": "text/x-python",
   "name": "python",
   "nbconvert_exporter": "python",
   "pygments_lexer": "ipython3",
   "version": "3.10.5"
  }
 },
 "nbformat": 4,
 "nbformat_minor": 5
}
