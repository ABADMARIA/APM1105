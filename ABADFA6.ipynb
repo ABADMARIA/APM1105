{
 "cells": [
  {
   "cell_type": "code",
   "execution_count": null,
   "id": "39a306b3-f89a-4053-b8d5-f568bad634ea",
   "metadata": {},
   "outputs": [],
   "source": [
    "import scipy.stats as stats\n",
    "import pandas as pd\n",
    "\n",
    "data = {\n",
    "    'Participant': list(range(1, 25)),\n",
    "    'Cloak': [0] * 12 + [1] * 12,\n",
    "    'Mischief': [3, 1, 5, 4, 6, 4, 6, 2, 0, 5, 4, 5, 4, 3, 6, 6, 8, 5, 5, 4, 2, 5, 7, 5]\n",
    "}\n",
    "\n",
    "df = pd.DataFrame(data)\n",
    "# 1st assumption: Normality\n",
    "_, pval_cloak = stats.shapiro(df[df['Cloak'] == 0]['Mischief'])\n",
    "_, pval_no_cloak = stats.shapiro(df[df['Cloak'] == 1]['Mischief'])\n",
    "# 2nd assumption: Homogeneity of Variances\n",
    "_, pval_variances = stats.levene(df[df['Cloak'] == 0]['Mischief'], df[df['Cloak'] == 1]['Mischief'])\n",
    "\n",
    "print(\"Assumption 1: Normality Check\")\n",
    "print(f\"P-value for Cloak=0 group: {pval_cloak}\")\n",
    "print(f\"P-value for Cloak=1 group: {pval_no_cloak}\")\n",
    "\n",
    "if pval_cloak > 0.05 and pval_no_cloak > 0.05:\n",
    "    print(\"Result: Normality is met for both groups.\")\n",
    "else:\n",
    "    print(\"Result: Normality is not met for one or both groups.\")\n",
    "\n",
    "print(\"\\nAssumption 2: Homogeneity of Variances Check\")\n",
    "print(f\"P-value for Levene's test: {pval_variances}\")\n",
    "\n",
    "if pval_variances > 0.05:\n",
    "    print(\"Result: Homogeneity of Variances is met.\")\n",
    "else:\n",
    "    print(\"Result: Homogeneity of Variances is not met.\")\n",
    "\n",
    "# Perform the independent samples t-test\n",
    "# 3rd assumption\n",
    "print(\"\\nAssumption 3: Independent Samples\")\n",
    "print(\"The samples are independent by design, as each participant belongs to only one group.\")\n",
    "# 4th assumption: Interval or Ratio Scale\n",
    "print(\"\\nAssumption 4: Interval or Ratio Scale\")\n",
    "print(\"The Mischief scores are on an interval scale.\")\n",
    "# 5th assumption: Random Sampling\n",
    "print(\"\\nAssumption 5: Random Sampling\")\n",
    "print(\"Assuming that the data was collected randomly.\")\n",
    "\n",
    "print(\"\\nPerforming Independent Samples t-test\")\n",
    "t_stat, pval_ttest = stats.ttest_ind(df[df['Cloak'] == 0]['Mischief'], df[df['Cloak'] == 1]['Mischief'])\n",
    "print(\"\\nIndependent Samples t-test Results:\")\n",
    "print(f\"t-statistic: {t_stat}\")\n",
    "print(f\"P-value: {pval_ttest}\")\n",
    "print(\"\\nInterpretation of Results:\")\n",
    "if pval_ttest < 0.05:\n",
    "    print(\"Conclusion: The diff in Mischief scores between the two groups is statistically significant.\")\n",
    "else:\n",
    "    print(\"Conclusion: The diff in Mischief scores between the two groups is not statistically significant.\")\n"
   ]
  }
 ],
 "metadata": {
  "kernelspec": {
   "display_name": "Python 3 (ipykernel)",
   "language": "python",
   "name": "python3"
  },
  "language_info": {
   "codemirror_mode": {
    "name": "ipython",
    "version": 3
   },
   "file_extension": ".py",
   "mimetype": "text/x-python",
   "name": "python",
   "nbconvert_exporter": "python",
   "pygments_lexer": "ipython3",
   "version": "3.10.5"
  }
 },
 "nbformat": 4,
 "nbformat_minor": 5
}
