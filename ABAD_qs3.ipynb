{
 "cells": [
  {
   "cell_type": "code",
   "execution_count": 2,
   "id": "e28a17eb",
   "metadata": {},
   "outputs": [
    {
     "name": "stdout",
     "output_type": "stream",
     "text": [
      "x = 2.000\n",
      "x = 2.154\n",
      "x = 2.097\n",
      "x = 2.119\n",
      "x = 2.111\n",
      "x = 2.114\n",
      "x = 2.113\n",
      "x = 2.113\n"
     ]
    }
   ],
   "source": [
    "def iterative_formula(x):\n",
    "    return (20 - 5*x)**(1/3)\n",
    "\n",
    "x = 2\n",
    "while True:\n",
    "    print(f\"x = {x:.3f}\")\n",
    "    xn = iterative_formula(x)\n",
    "    if abs(xn - x) < 0.001:\n",
    "        break\n",
    "    x = xn\n",
    "\n",
    "print(f\"x = {x:.3f}\")\n"
   ]
  },
  {
   "cell_type": "code",
   "execution_count": null,
   "id": "543c1040",
   "metadata": {},
   "outputs": [],
   "source": []
  }
 ],
 "metadata": {
  "kernelspec": {
   "display_name": "Python 3 (ipykernel)",
   "language": "python",
   "name": "python3"
  },
  "language_info": {
   "codemirror_mode": {
    "name": "ipython",
    "version": 3
   },
   "file_extension": ".py",
   "mimetype": "text/x-python",
   "name": "python",
   "nbconvert_exporter": "python",
   "pygments_lexer": "ipython3",
   "version": "3.9.13"
  }
 },
 "nbformat": 4,
 "nbformat_minor": 5
}
