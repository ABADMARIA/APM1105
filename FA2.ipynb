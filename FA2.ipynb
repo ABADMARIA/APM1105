{
 "cells": [
  {
   "cell_type": "code",
   "execution_count": 9,
   "id": "b62714fc-77e4-4660-b71a-9b4cd89f9cd1",
   "metadata": {
    "tags": []
   },
   "outputs": [
    {
     "name": "stdout",
     "output_type": "stream",
     "text": [
      "Left equation: 157\n",
      "Right equation: 157\n",
      "Therefore the given equation is proven to be true.\n"
     ]
    }
   ],
   "source": [
    "# 3.49\n",
    "X = [2, 3, 5, 7, 11]\n",
    "\n",
    "left = sum((x - 1)**2 for x in X)\n",
    "right = sum(x**2 for x in X) - 2 * sum(X) + len(X)\n",
    "\n",
    "print(\"Left equation:\", left)\n",
    "print(\"Right equation:\", right)\n",
    "\n",
    "if left == right:\n",
    "    print(\"Therefore the given equation is proven to be true.\")\n",
    "else:\n",
    "    print(\"Therefore the given equation is not proven to be true.\")"
   ]
  },
  {
   "cell_type": "code",
   "execution_count": 6,
   "id": "9d271197-9282-4035-8abf-d2bf7b0f0469",
   "metadata": {
    "tags": []
   },
   "outputs": [
    {
     "name": "stdout",
     "output_type": "stream",
     "text": [
      "a) ∑UV = 20\n",
      "b) ∑(U+3)(V-4) = -37\n",
      "c) ∑V^2 = 53\n",
      "d) (∑U)(∑V)^2 = 6\n",
      "e) ∑UV^2 = 226\n",
      "f) ∑(U^2 - 2V^2 + 2) = -62\n",
      "g) ∑(U/V) = 2.0833333333333335\n"
     ]
    }
   ],
   "source": [
    "# 3.51\n",
    "U = [3, -2, 5]\n",
    "V = [-4, -1, 6]\n",
    "\n",
    "#a) ∑UV\n",
    "sum_UV = sum(u * v for u, v in zip(U, V))\n",
    "print(\"a) ∑UV =\", sum_UV)\n",
    "\n",
    "#b) ∑(U+3)(V-4)\n",
    "sum_exp = sum((u + 3) * (v - 4) for u, v in zip(U, V))\n",
    "print(\"b) ∑(U+3)(V-4) =\", sum_exp)\n",
    "\n",
    "#c) ∑V^2\n",
    "sum_Vsq = sum(v**2 for v in V)\n",
    "print(\"c) ∑V^2 =\", sum_Vsq)\n",
    "\n",
    "#d) (∑U)(∑V)^2\n",
    "prodsum_UVsq = sum(U) * sum(V)**2\n",
    "print(\"d) (∑U)(∑V)^2 =\", prodsum_UVsq)\n",
    "\n",
    "#e) ∑UV^2\n",
    "sum_UVsq = sum(u * v**2 for u, v in zip(U, V))\n",
    "print(\"e) ∑UV^2 =\", sum_UVsq)\n",
    "\n",
    "#f) ∑(U^2 - 2V^2 + 2)\n",
    "sum_exp2 = sum(u**2 - 2 * v**2 + 2 for u, v in zip(U, V))\n",
    "print(\"f) ∑(U^2 - 2V^2 + 2) =\", sum_exp2)\n",
    "\n",
    "#g) ∑(U/V)\n",
    "sum_UdivB = sum(u / v if v != 0 else 0 for u, v in zip(U, V))\n",
    "print(\"g) ∑(U/V) =\", sum_UdivB)"
   ]
  },
  {
   "cell_type": "code",
   "execution_count": 2,
   "id": "3705c646-8dd3-4e82-aa3a-924b4bff13b8",
   "metadata": {
    "tags": []
   },
   "outputs": [
    {
     "name": "stdout",
     "output_type": "stream",
     "text": [
      "Geometric Mean for Set a: 4.1407\n",
      "Geometric Mean for Set b: 45.8258\n"
     ]
    }
   ],
   "source": [
    "# 3.90\n",
    "import math\n",
    "\n",
    "# Set a\n",
    "val_a = [3, 5, 8, 3, 7, 2]\n",
    "\n",
    "# Geometric mean for set a\n",
    "geomean_a = round(math.exp(sum(math.log(x) for x in val_a) / len(val_a)), 4)\n",
    "\n",
    "# Set b\n",
    "val_b = [28.5, 73.6, 47.2, 31.5, 64.8]\n",
    "\n",
    "# Geometric mean for set b\n",
    "geomean_b = round(math.exp(sum(math.log(x) for x in val_b) / len(val_b)), 4)\n",
    "\n",
    "print(\"Geometric Mean for Set a:\", geomean_a)\n",
    "print(\"Geometric Mean for Set b:\", geomean_b)"
   ]
  },
  {
   "cell_type": "code",
   "execution_count": null,
   "id": "0bebcf20-6b9a-45d6-b63e-e48bbd84ed77",
   "metadata": {
    "tags": []
   },
   "outputs": [],
   "source": []
  },
  {
   "cell_type": "code",
   "execution_count": null,
   "id": "22974d9c-386a-465c-9562-38ea821b8cea",
   "metadata": {},
   "outputs": [],
   "source": []
  }
 ],
 "metadata": {
  "kernelspec": {
   "display_name": "Python 3 (ipykernel)",
   "language": "python",
   "name": "python3"
  },
  "language_info": {
   "codemirror_mode": {
    "name": "ipython",
    "version": 3
   },
   "file_extension": ".py",
   "mimetype": "text/x-python",
   "name": "python",
   "nbconvert_exporter": "python",
   "pygments_lexer": "ipython3",
   "version": "3.10.5"
  }
 },
 "nbformat": 4,
 "nbformat_minor": 5
}
