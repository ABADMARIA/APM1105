{
 "cells": [
  {
   "cell_type": "code",
   "execution_count": 2,
   "id": "aabc4550",
   "metadata": {
    "tags": []
   },
   "outputs": [
    {
     "name": "stdin",
     "output_type": "stream",
     "text": [
      "Input base:  12\n",
      "Input exponent:  3\n"
     ]
    },
    {
     "name": "stdout",
     "output_type": "stream",
     "text": [
      "Iterative result:  1728\n",
      "Iterative rendering time:  0.0\n",
      "Recursive result:  1728\n",
      "Recursive rendering time:  1\n"
     ]
    }
   ],
   "source": [
    "import time\n",
    "\n",
    "#1\n",
    "def ite_exp(b, exp):\n",
    "    result = 1\n",
    "    start_t = time.time()\n",
    "    for i in range(exp):\n",
    "        result *= b\n",
    "    end_t = time.time()\n",
    "    render_t = end_t - start_t\n",
    "    return result, render_t\n",
    "\n",
    "def rec_exp(b, exp):\n",
    "    if exp == 0:\n",
    "        return 1, 0\n",
    "    if exp == 1:\n",
    "        return b, 0\n",
    "    if exp % 2 == 0:\n",
    "        result, render_t = rec_exp(b, exp/2)\n",
    "        result *= result\n",
    "        render_t *= 2\n",
    "    else:\n",
    "        result, render_t = rec_exp(b, (exp-1)/2)\n",
    "        result *= result\n",
    "        result *= b\n",
    "        render_t = (render_t * 2) + 1\n",
    "    return result, render_t\n",
    "\n",
    "# Base and exponent user input\n",
    "b = int(input(\"Input base: \"))\n",
    "exp = int(input(\"Input exponent: \"))\n",
    "\n",
    "# Calculate exponent iteratively and recursively\n",
    "ite_result, ite_render_t = ite_exp(b, exp)\n",
    "rec_result, rec_render_t = rec_exp(b, exp)\n",
    "\n",
    "# Print results and rendering times\n",
    "print(\"Iterative result: \", ite_result)\n",
    "print(\"Iterative rendering time: \", ite_render_t)\n",
    "print(\"Recursive result: \", rec_result)\n",
    "print(\"Recursive rendering time: \", rec_render_t)\n",
    "\n"
   ]
  },
  {
   "cell_type": "code",
   "execution_count": 5,
   "id": "78ab88ee",
   "metadata": {},
   "outputs": [
    {
     "name": "stdin",
     "output_type": "stream",
     "text": [
      "Enter the value of n:  222\n"
     ]
    },
    {
     "name": "stdout",
     "output_type": "stream",
     "text": [
      "The sum of the first 222 powers of 2 (iteratively) is: 6739986666787659948666753771754907668409286105635143120275902562303\n",
      "Iterative rendering time:  0.0 s\n",
      "The sum of the first 222 powers of 2 (recursively) is: 6739986666787659948666753771754907668409286105635143120275902562303\n",
      "Recursive rendering time:  6739986666787659948666753771754907668409286105635143120275902562303 s\n"
     ]
    }
   ],
   "source": [
    "#2\n",
    "def ite_pow_sum(n):\n",
    "    result = 0\n",
    "    start_t = time.time() # Start timer\n",
    "    for i in range(n):\n",
    "        result += 2**i\n",
    "    end_t = time.time() # Stop timer\n",
    "    render_t = end_t - start_t # Calculate rendering time\n",
    "    return result, render_t\n",
    "\n",
    "def rec_pow_sum(n):\n",
    "    if n == 0:\n",
    "        return 0, 0\n",
    "    else:\n",
    "        result, render_t = rec_pow_sum(n-1)\n",
    "        result += 2**(n-1)\n",
    "        render_t *= 2\n",
    "        render_t += 1\n",
    "        return result, render_t\n",
    "\n",
    "# Input n value\n",
    "n = int(input(\"Enter the value of n: \"))\n",
    "\n",
    "# Calculate the sum of powers iteratively and recursively\n",
    "ite_result, ite_render_t = ite_pow_sum(n)\n",
    "rec_result, rec_render_t = rec_pow_sum(n)\n",
    "\n",
    "# Print results and rendering times\n",
    "print(\"The sum of the first\", n, \"powers of 2 (iteratively) is:\", ite_result)\n",
    "print(\"Iterative rendering time: \", ite_render_t, \"s\")\n",
    "print(\"The sum of the first\", n, \"powers of 2 (recursively) is:\", rec_result)\n",
    "print(\"Recursive rendering time: \", rec_render_t, \"s\")\n"
   ]
  },
  {
   "cell_type": "code",
   "execution_count": null,
   "id": "dd90316f",
   "metadata": {},
   "outputs": [],
   "source": []
  }
 ],
 "metadata": {
  "kernelspec": {
   "display_name": "Python 3 (ipykernel)",
   "language": "python",
   "name": "python3"
  },
  "language_info": {
   "codemirror_mode": {
    "name": "ipython",
    "version": 3
   },
   "file_extension": ".py",
   "mimetype": "text/x-python",
   "name": "python",
   "nbconvert_exporter": "python",
   "pygments_lexer": "ipython3",
   "version": "3.10.5"
  }
 },
 "nbformat": 4,
 "nbformat_minor": 5
}
