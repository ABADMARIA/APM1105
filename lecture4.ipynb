{
 "cells": [
  {
   "cell_type": "code",
   "execution_count": 1,
   "metadata": {},
   "outputs": [
    {
     "name": "stdout",
     "output_type": "stream",
     "text": [
      "       country  year  cases  population\n",
      "0  Afghanistan  1999    745    19987071\n",
      "1  Afghanistan  2000   2666    20595360\n",
      "2       Brazil  1999  37737   172006362\n",
      "3       Brazil  2000  80488   174504898\n",
      "       country  year        type      count\n",
      "0  Afghanistan  1999       cases        745\n",
      "1  Afghanistan  2000       cases       2666\n",
      "2       Brazil  1999       cases      37737\n",
      "3       Brazil  2000       cases      80488\n",
      "4  Afghanistan  1999  population   19987071\n",
      "5  Afghanistan  2000  population   20595360\n",
      "6       Brazil  1999  population  172006362\n",
      "7       Brazil  2000  population  174504898\n",
      "type      country  year  cases  population\n",
      "0     Afghanistan  1999    745    19987071\n",
      "1     Afghanistan  2000   2666    20595360\n",
      "2          Brazil  1999  37737   172006362\n",
      "3          Brazil  2000  80488   174504898\n",
      "\n",
      "Before dropping missing values:\n",
      "type      country  year    cases  population\n",
      "0     Afghanistan  1999    745.0    19987071\n",
      "1     Afghanistan  2000   2666.0    20595360\n",
      "2          Brazil  1999      NaN   172006362\n",
      "3          Brazil  2000  80488.0   174504898\n",
      "\n",
      "After dropping missing values:\n",
      "type      country  year    cases  population\n",
      "0     Afghanistan  1999    745.0    19987071\n",
      "1     Afghanistan  2000   2666.0    20595360\n",
      "3          Brazil  2000  80488.0   174504898\n"
     ]
    }
   ],
   "source": [
    "import pandas as pd\n",
    "\n",
    "data = {\n",
    "    \"country\": [\"Afghanistan\", \"Afghanistan\", \"Brazil\", \"Brazil\"],\n",
    "    \"year\": [1999, 2000, 1999, 2000],\n",
    "    \"cases\": [745, 2666, 37737, 80488],\n",
    "    \"population\": [19987071, 20595360, 172006362, 174504898]\n",
    "}\n",
    "df = pd.DataFrame(data)\n",
    "\n",
    "print(df)\n",
    "\n",
    "long_df = df.melt(id_vars=[\"country\", \"year\"], var_name=\"type\", value_name=\"count\")\n",
    "print(long_df)\n",
    "\n",
    "wide_df = long_df.pivot(index=[\"country\", \"year\"], columns=\"type\", values=\"count\").reset_index()\n",
    "print(wide_df)\n",
    "\n",
    "wide_df.loc[2, \"cases\"] = None  \n",
    "print(\"\\nBefore dropping missing values:\")\n",
    "print(wide_df)\n",
    "wide_df_clean = wide_df.dropna()\n",
    "print(\"\\nAfter dropping missing values:\")\n",
    "print(wide_df_clean)\n"
   ]
  },
  {
   "cell_type": "code",
   "execution_count": null,
   "metadata": {},
   "outputs": [],
   "source": []
  }
 ],
 "metadata": {
  "kernelspec": {
   "display_name": "base",
   "language": "python",
   "name": "python3"
  },
  "language_info": {
   "codemirror_mode": {
    "name": "ipython",
    "version": 3
   },
   "file_extension": ".py",
   "mimetype": "text/x-python",
   "name": "python",
   "nbconvert_exporter": "python",
   "pygments_lexer": "ipython3",
   "version": "3.12.4"
  }
 },
 "nbformat": 4,
 "nbformat_minor": 2
}
